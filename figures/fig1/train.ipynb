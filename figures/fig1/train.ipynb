{
 "cells": [
  {
   "cell_type": "code",
   "execution_count": 53,
   "metadata": {},
   "outputs": [],
   "source": [
    "%reload_ext autoreload\n",
    "%autoreload 2"
   ]
  },
  {
   "cell_type": "code",
   "execution_count": 54,
   "metadata": {},
   "outputs": [],
   "source": [
    "\n",
    "\n",
    "import jax\n",
    "import jax.numpy as jnp\n",
    "\n",
    "import matplotlib.pyplot as plt \n",
    "import optax\n",
    "\n",
    "from markovsbi.tasks import get_task\n",
    "from markovsbi.utils.sde_utils import init_sde\n",
    "from markovsbi.models.simple_scoremlp import build_score_mlp, precondition_functions, precondition_functions_v3, precondition_functions_v2\n",
    "from markovsbi.models.train_utils import build_batch_sampler,build_loss_fn\n",
    "\n",
    "from markovsbi.bm.plot_utils import use_style"
   ]
  },
  {
   "cell_type": "code",
   "execution_count": 55,
   "metadata": {},
   "outputs": [
    {
     "data": {
      "text/plain": [
       "[cuda(id=0)]"
      ]
     },
     "execution_count": 55,
     "metadata": {},
     "output_type": "execute_result"
    }
   ],
   "source": [
    "jax.devices()"
   ]
  },
  {
   "cell_type": "code",
   "execution_count": 56,
   "metadata": {},
   "outputs": [],
   "source": [
    "key = jax.random.PRNGKey(1)"
   ]
  },
  {
   "cell_type": "code",
   "execution_count": 57,
   "metadata": {},
   "outputs": [],
   "source": [
    "task = get_task(\"simple1dstationary\")\n",
    "prior = task.get_prior()\n",
    "simulator = task.get_simulator()"
   ]
  },
  {
   "cell_type": "code",
   "execution_count": 58,
   "metadata": {},
   "outputs": [],
   "source": [
    "data = task.get_data(key, 1_000_000, 2)"
   ]
  },
  {
   "cell_type": "code",
   "execution_count": 59,
   "metadata": {},
   "outputs": [
    {
     "data": {
      "image/png": "[encoded data removed]",
      "text/plain": [
       "<Figure size 75x50 with 1 Axes>"
      ]
     },
     "execution_count": 59,
     "metadata": {},
     "output_type": "execute_result"
    }
   ],
   "source": [
    "x = jnp.linspace(-3, 3, 1000)\n",
    "pdf = jnp.exp(jax.vmap(prior.log_prob)(x))\n",
    "\n",
    "color = \"#ffdf7fd9\"\n",
    "\n",
    "with use_style(\"pyloric\"):\n",
    "    fig = plt.figure(figsize=(.75, .5))\n",
    "    ax = plt.gca()\n",
    "    plt.plot(x, pdf, color=color, lw=2)\n",
    "    plt.fill_between(x, pdf, color=color, alpha=0.5)\n",
    "    # Disable y axis\n",
    "    ax.axes.get_yaxis().set_visible(False)\n",
    "    # Disable y spines\n",
    "    ax.spines[\"left\"].set_visible(False)\n",
    "    plt.xlim(-3, 3)\n",
    "    plt.xticks([-3, 3])\n",
    "    plt.xlabel(r\"$\\theta$\", labelpad=-8)\n",
    "    fig.savefig(\"prior.svg\", bbox_inches=\"tight\", pad_inches=0, transparent=True)\n",
    "    \n",
    "fig"
   ]
  },
  {
   "cell_type": "code",
   "execution_count": 60,
   "metadata": {},
   "outputs": [
    {
     "data": {
      "image/png": "[encoded data removed]",
      "text/plain": [
       "<Figure size 75x50 with 1 Axes>"
      ]
     },
     "execution_count": 60,
     "metadata": {},
     "output_type": "execute_result"
    }
   ],
   "source": [
    "x = jnp.linspace(-15, 15, 1000)\n",
    "pdf = jnp.exp(jax.vmap(lambda x: jax.scipy.stats.norm.logpdf(x, 0., 5.))(x))\n",
    "\n",
    "color2 = \"#8ebad9ff\"\n",
    "\n",
    "with use_style(\"pyloric\"):\n",
    "    fig = plt.figure(figsize=(.75, .5))\n",
    "    ax = plt.gca()\n",
    "    plt.plot(x, pdf, color=color2, lw=2)\n",
    "    plt.fill_between(x, pdf, color=color2, alpha=0.5)\n",
    "    # Disable y axis\n",
    "    ax.axes.get_yaxis().set_visible(False)\n",
    "    # Disable y spines\n",
    "    ax.spines[\"left\"].set_visible(False)\n",
    "    plt.xlim(-15, 15)\n",
    "    plt.xticks([-15, 15])\n",
    "    plt.xlabel(r\"$x_t$\", labelpad=-8)\n",
    "    fig.savefig(\"proposal.svg\", bbox_inches=\"tight\", pad_inches=0, transparent=True)\n",
    "    \n",
    "fig"
   ]
  },
  {
   "cell_type": "code",
   "execution_count": 9,
   "metadata": {},
   "outputs": [
    {
     "data": {
      "image/png": "[encoded data removed]",
      "text/plain": [
       "<Figure size 75x50 with 1 Axes>"
      ]
     },
     "execution_count": 9,
     "metadata": {},
     "output_type": "execute_result"
    }
   ],
   "source": [
    "x = jnp.linspace(-15, 15, 1000)\n",
    "pdf = jnp.exp(jax.vmap(lambda x: jax.scipy.stats.norm.logpdf(x, 2., 1.))(x))\n",
    "\n",
    "color2 = \"#8ebad9ff\"\n",
    "\n",
    "with use_style(\"pyloric\"):\n",
    "    fig = plt.figure(figsize=(.75, .5))\n",
    "    ax = plt.gca()\n",
    "    plt.plot(x, pdf, color=color2, lw=2)\n",
    "    plt.fill_between(x, pdf, color=color2, alpha=0.5)\n",
    "    # Disable y axis\n",
    "    ax.axes.get_yaxis().set_visible(False)\n",
    "    # Disable y spines\n",
    "    ax.spines[\"left\"].set_visible(False)\n",
    "    plt.xlim(-15, 15)\n",
    "    plt.xticks([-15, 15])\n",
    "    plt.xlabel(r\"$x_{t+1}$\", labelpad=-8)\n",
    "    fig.savefig(\"transition.svg\", bbox_inches=\"tight\", pad_inches=0, transparent=True)\n",
    "    \n",
    "fig"
   ]
  },
  {
   "cell_type": "code",
   "execution_count": 47,
   "metadata": {},
   "outputs": [
    {
     "data": {
      "image/png": "[encoded data removed]",
      "text/plain": [
       "<Figure size 150x50 with 1 Axes>"
      ]
     },
     "metadata": {},
     "output_type": "display_data"
    }
   ],
   "source": [
    "x = jnp.linspace(-15, 15, 500)\n",
    "y = jnp.linspace(-15, 15, 500)\n",
    "xx, yy = jnp.meshgrid(x, y)\n",
    "pos = jnp.dstack((xx, yy))\n",
    "pos = jnp.reshape(pos, (500*500, 2))\n",
    "L = jnp.array([[1., 1.], [0., 1.]])\n",
    "cov = jnp.dot(L, L.T) + jnp.eye(2)\n",
    "pdf = jax.vmap(lambda x: jax.scipy.stats.multivariate_normal.pdf(x, 2*jnp.ones(2),10*cov))(pos)\n",
    "\n",
    "import matplotlib.colors as mcolors\n",
    "\n",
    "# Your specified color\n",
    "color2 = \"#8ebad9ff\"\n",
    "\n",
    "# Create a custom colormap that transitions from white to color2\n",
    "colors = [\"white\", color2]\n",
    "cmap = mcolors.LinearSegmentedColormap.from_list(\"custom_cmap\", colors)\n",
    "\n",
    "with use_style(\"pyloric\"):\n",
    "    fig = plt.figure(figsize=(1.5, .5))\n",
    "    ax = plt.gca()\n",
    "    plt.contour(xx,yy,pdf.reshape(500,500), origin=\"lower\", extent=(-15, 15, -15, 15), cmap=cmap, vmax=0.005)\n",
    "    plt.xticks([-15, 15])\n",
    "    plt.yticks([-15, 15])\n",
    "    plt.xlabel(r\"$x_{t+1}$\", labelpad=-8)\n",
    "    plt.ylabel(r\"$x_{t}$\")\n",
    "    fig.savefig(\"transition2d.svg\", bbox_inches=\"tight\", pad_inches=0, transparent=True)\n",
    "plt.show()"
   ]
  },
  {
   "cell_type": "code",
   "execution_count": 61,
   "metadata": {},
   "outputs": [
    {
     "data": {
      "text/plain": [
       "Array(0.001, dtype=float32)"
      ]
     },
     "execution_count": 61,
     "metadata": {},
     "output_type": "execute_result"
    }
   ],
   "source": [
    "pdf.min()"
   ]
  },
  {
   "cell_type": "code",
   "execution_count": 62,
   "metadata": {},
   "outputs": [],
   "source": [
    "sde, weight_fn = init_sde(data)"
   ]
  },
  {
   "cell_type": "code",
   "execution_count": 63,
   "metadata": {},
   "outputs": [
    {
     "data": {
      "text/plain": [
       "Array(0.039, dtype=float32, weak_type=True)"
      ]
     },
     "execution_count": 63,
     "metadata": {},
     "output_type": "execute_result"
    }
   ],
   "source": [
    "sde.std(sde.T_min)"
   ]
  },
  {
   "cell_type": "code",
   "execution_count": 64,
   "metadata": {},
   "outputs": [],
   "source": [
    "key, key_init = jax.random.split(key)"
   ]
  },
  {
   "cell_type": "code",
   "execution_count": 65,
   "metadata": {},
   "outputs": [],
   "source": [
    "c_in, c_noise, c_out = precondition_functions_v2(sde)\n",
    "init_fn, score_net = build_score_mlp(2, num_hidden=5, c_in=c_in, c_noise=c_noise, c_out=c_out)\n",
    "batch_sampler = build_batch_sampler(data)\n",
    "loss_fn = build_loss_fn(\"dsm\", score_net, sde,weight_fn, control_variate=False, control_variate_cutoff=1.)"
   ]
  },
  {
   "cell_type": "code",
   "execution_count": 66,
   "metadata": {},
   "outputs": [
    {
     "name": "stdout",
     "output_type": "stream",
     "text": [
      "(10, 1) (10, 2, 1)\n"
     ]
    }
   ],
   "source": [
    "theta_batch, x_batch = batch_sampler(key_init, 10)\n",
    "d = theta_batch.shape[1]\n",
    "print(theta_batch.shape, x_batch.shape)"
   ]
  },
  {
   "cell_type": "code",
   "execution_count": 67,
   "metadata": {},
   "outputs": [],
   "source": [
    "params = init_fn(key_init, jnp.ones((10,)), theta_batch, x_batch)"
   ]
  },
  {
   "cell_type": "code",
   "execution_count": 68,
   "metadata": {},
   "outputs": [
    {
     "data": {
      "text/plain": [
       "(10, 1, 1)"
      ]
     },
     "execution_count": 68,
     "metadata": {},
     "output_type": "execute_result"
    }
   ],
   "source": [
    "score_net(params, jnp.ones((10,)), theta_batch, x_batch).shape"
   ]
  },
  {
   "cell_type": "code",
   "execution_count": 103,
   "metadata": {},
   "outputs": [
    {
     "data": {
      "text/plain": [
       "Array(29.565, dtype=float32)"
      ]
     },
     "execution_count": 103,
     "metadata": {},
     "output_type": "execute_result"
    }
   ],
   "source": [
    "loss_fn(params, key,theta_batch, x_batch)"
   ]
  },
  {
   "cell_type": "code",
   "execution_count": 104,
   "metadata": {},
   "outputs": [],
   "source": [
    "\n",
    "schedule = optax.cosine_onecycle_schedule (\n",
    "    100_000, 1e-4,\n",
    ")\n",
    "optimizer = optax.chain(optax.adaptive_grad_clip(100), optax.adamw(schedule))\n",
    "opt_state = optimizer.init(params)"
   ]
  },
  {
   "cell_type": "code",
   "execution_count": 105,
   "metadata": {},
   "outputs": [],
   "source": [
    "@jax.jit\n",
    "def update(params, rng, opt_state, theta_batch, x_batch):\n",
    "    loss, grads = jax.value_and_grad(loss_fn)(params, rng, theta_batch, x_batch)\n",
    "    updates, opt_state = optimizer.update(grads, opt_state, params=params)\n",
    "    params = optax.apply_updates(params, updates)\n",
    "    return loss, params, opt_state"
   ]
  },
  {
   "cell_type": "code",
   "execution_count": 106,
   "metadata": {},
   "outputs": [
    {
     "name": "stdout",
     "output_type": "stream",
     "text": [
      "6.549075\n",
      "6.3933725\n",
      "6.3584175\n",
      "6.3702493\n",
      "6.389399\n",
      "6.361944\n",
      "6.3505454\n",
      "6.3405023\n",
      "6.3318152\n",
      "6.351687\n"
     ]
    }
   ],
   "source": [
    "for i in range(10):\n",
    "    l = 0.\n",
    "    for _ in range(10000):\n",
    "        key, key_batch = jax.random.split(key)\n",
    "        theta_batch, x_batch = batch_sampler(key_batch, 1000)\n",
    "        loss, params, opt_state = update(params, key, opt_state, theta_batch, x_batch)\n",
    "        l += loss/10000\n",
    "    print(l)"
   ]
  },
  {
   "cell_type": "code",
   "execution_count": 69,
   "metadata": {},
   "outputs": [],
   "source": [
    "from markovsbi.sampling.score_fn import FNPEScoreFn, UncorrectedScoreFn, GaussCorrectedScoreFn,CorrectedScoreFn, ScoreFn"
   ]
  },
  {
   "cell_type": "code",
   "execution_count": 70,
   "metadata": {},
   "outputs": [],
   "source": [
    "score_fn = FNPEScoreFn(score_net, params, sde, prior)\n",
    "score_fn = UncorrectedScoreFn(score_net, params, sde,prior)\n",
    "score_fn = GaussCorrectedScoreFn(score_net, params, sde, prior, posterior_precission_est_fn=lambda x: 2.0)\n",
    "#score_fn = CorrectedScoreFn(score_net, params, sde, prior)"
   ]
  },
  {
   "cell_type": "code",
   "execution_count": 71,
   "metadata": {},
   "outputs": [
    {
     "name": "stdout",
     "output_type": "stream",
     "text": [
      "[0.343]\n"
     ]
    }
   ],
   "source": [
    "key = jax.random.PRNGKey(5)\n",
    "theta_o = prior.sample(key)\n",
    "num_obs = 101\n",
    "x_o = simulator(key, theta_o, num_obs)\n",
    "print(theta_o)"
   ]
  },
  {
   "cell_type": "code",
   "execution_count": 72,
   "metadata": {},
   "outputs": [],
   "source": [
    "from markovsbi.bm.plot_utils import use_style"
   ]
  },
  {
   "cell_type": "code",
   "execution_count": 79,
   "metadata": {},
   "outputs": [
    {
     "data": {
      "image/png": "[encoded data removed]",
      "text/plain": [
       "<Figure size 300x100 with 1 Axes>"
      ]
     },
     "execution_count": 79,
     "metadata": {},
     "output_type": "execute_result"
    }
   ],
   "source": [
    "with use_style(\"pyloric\"):\n",
    "    fig = plt.figure(figsize=(3., 1.))\n",
    "    plt.plot(x_o, lw=2, color=color2, alpha=0.8)\n",
    "    plt.savefig(\"x_o.svg\")\n",
    "    # Disable x_axis\n",
    "    plt.gca().axes.get_xaxis().set_visible(False)\n",
    "    # # Disable x spine \n",
    "    plt.gca().spines['bottom'].set_visible(False)\n",
    "    plt.xlabel(\"Time\", labelpad=0.5)\n",
    "    plt.ylabel(r\"$x_{1:T}(\\theta)$\", labelpad=-0.5)\n",
    "    plt.yticks([-5,10])\n",
    "    plt.xticks([0,100])\n",
    "    plt.ylim(-5,10)\n",
    "    plt.xlim(0,100)\n",
    "    plt.text(50, x_o[50,0] - 5, r\"$x_t$\", fontsize=9)\n",
    "    plt.text(60, x_o[60,0] - 5, r\"$x_{t+1}$\", fontsize=9)\n",
    "    \n",
    "    # Line connecting x_t and point on line \n",
    "    plt.plot([49, 49], [x_o[50,0], x_o[50,0] - 5], color=\"black\", lw=0.5)\n",
    "    plt.plot([59, 59], [x_o[60,0], x_o[60,0] - 5], color=\"black\", lw=0.5)\n",
    "\n",
    "    plt.scatter(jnp.arange(0, 101, 10), x_o[::10], color=color2, s=10, edgecolors='black')\n",
    "    \n",
    "    fig.savefig(\"x_o.svg\")\n",
    "fig"
   ]
  },
  {
   "cell_type": "code",
   "execution_count": 112,
   "metadata": {},
   "outputs": [],
   "source": [
    "\n",
    "from markovsbi.sampling.sample import Diffuser\n",
    "from markovsbi.sampling.kernels import EulerMaruyama, PredictorCorrector, DDIM\n",
    " \n",
    "kernel = EulerMaruyama(score_fn)\n",
    "time_grid = jnp.linspace(sde.T_min, sde.T_max, 500)\n",
    "sampler = Diffuser(kernel, time_grid, (d,))\n"
   ]
  },
  {
   "cell_type": "code",
   "execution_count": 113,
   "metadata": {},
   "outputs": [],
   "source": [
    "import torch\n",
    "import numpy as np\n",
    "\n",
    "samples1 = jax.vmap(sampler.sample, in_axes=(0, None))(jax.random.split(key, 5000), x_o[:11])\n",
    "true_posterior1 = task.get_true_posterior(x_o[:11])\n",
    "true_posterior2 = task.get_true_posterior(x_o)\n",
    "x  = jnp.linspace(-1,1,1000)\n",
    "pdf1 = jnp.exp(jax.vmap(true_posterior1.log_prob)(x))\n",
    "pdf2 = jnp.exp(jax.vmap(true_posterior2.log_prob)(x))\n"
   ]
  },
  {
   "cell_type": "code",
   "execution_count": 114,
   "metadata": {},
   "outputs": [],
   "source": [
    "samples2 = jax.vmap(sampler.sample, in_axes=(0, None))(jax.random.split(key, 1000), x_o)"
   ]
  },
  {
   "cell_type": "code",
   "execution_count": 122,
   "metadata": {},
   "outputs": [
    {
     "data": {
      "image/png": "[encoded data removed]",
      "text/plain": [
       "<Figure size 110x170 with 2 Axes>"
      ]
     },
     "execution_count": 122,
     "metadata": {},
     "output_type": "execute_result"
    }
   ],
   "source": [
    "with use_style(\"pyloric\"):\n",
    "    fig, axes = plt.subplots(2,figsize=(1.1, 1.7))\n",
    "    axes[0].hist(samples1, bins=50, density=True, alpha=0.5, color=color2)\n",
    "    axes[0].plot(x, pdf1, color=\"black\")\n",
    "    axes[0].set_xticklabels([])\n",
    "    axes[0].set_ylabel(r\"$T=10^1$\")\n",
    "    axes[0].spines['left'].set_visible(False)\n",
    "    #axes[0].vlines(theta_o, 0, 4, color=\"grey\")\n",
    "    axes[0].set_xlim(-2,2)\n",
    "    axes[0].set_yticks([])\n",
    "    axes[0].set_yticklabels([])\n",
    "    \n",
    "    axes[1].hist(samples2, bins=50, density=True, alpha=0.5, color=color2)\n",
    "    #axes[1].vlines(theta_o, 0, 12, color=\"grey\")\n",
    "    axes[1].plot(x, pdf2, color=\"black\")\n",
    "    axes[1].set_ylabel(r\"$T=10^2$\")\n",
    "    axes[1].set_xlabel(\"$\\\\theta$\", labelpad=-8)\n",
    "    axes[1].spines['left'].set_visible(False)\n",
    "    axes[1].set_yticks([])\n",
    "    axes[1].set_yticklabels([])\n",
    "    axes[1].set_xlim(-2,2)\n",
    "    axes[1].set_xticks([-2,2])\n",
    "    axes[0].set_xticks([-2,2])  \n",
    "    fig.legend([\"true\",\"approx.\"], ncol=2, loc=\"upper center\", bbox_to_anchor=(0.5, 1.1), handlelength=.5)\n",
    "    \n",
    "    \n",
    "    plt.savefig(\"samples.svg\")\n",
    "\n",
    "fig"
   ]
  },
  {
   "cell_type": "code",
   "execution_count": null,
   "metadata": {},
   "outputs": [],
   "source": []
  }
 ],
 "metadata": {
  "kernelspec": {
   "display_name": "markovsbi",
   "language": "python",
   "name": "python3"
  },
  "language_info": {
   "codemirror_mode": {
    "name": "ipython",
    "version": 3
   },
   "file_extension": ".py",
   "mimetype": "text/x-python",
   "name": "python",
   "nbconvert_exporter": "python",
   "pygments_lexer": "ipython3",
   "version": "3.11.9"
  }
 },
 "nbformat": 4,
 "nbformat_minor": 2
}
